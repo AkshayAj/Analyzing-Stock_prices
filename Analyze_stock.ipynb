{
 "cells": [
  {
   "cell_type": "markdown",
   "metadata": {
    "collapsed": true
   },
   "source": [
    "## Stock Price Data\n",
    "\n",
    "In this project we'll work with stock market data that was downloaded from Yahoo Finance using the <a href=\"https://pypi.org/project/yahoo-finance/\">yahoo_finance</a> Python package. \n",
    "\n",
    "This data consists of the daily stock prices from 2007-1-1 to 2017-04-17 for several hundred stock symbols traded on the NASDAQ stock exchange, stored in the prices folder. The download_data.py script in the same folder as the Jupyter notebook was used to download all of the stock price data. Each file in the prices folder is named for a specific stock symbol, and contains the:\n",
    "\n",
    "\n",
    "`date` -- date that the data is from.\n",
    "\n",
    "`close` -- the closing price on that day, which is the price when the trading day ends.\n",
    "\n",
    "`open` -- the opening price on that day, which is the price when the trading day starts.\n",
    "\n",
    "`high` -- the highest price the stock reached during trading.\n",
    "\n",
    "`low` -- the lowest price the stock reached during trading.\n",
    "\n",
    "`volume` -- the number of shares that were traded during the day.\n",
    "\n",
    "\n",
    "The prices are sorted in ascending order by day. Stock trading doesn't happen on certain days, like weekends and holidays, so there are gaps between days -- we only have data for days on which trading happening.\n",
    "\n",
    "To read in and store all of the data, we will be using a dictionary where the values are the stock symbols (name of the file without the .csv extension) and the value associated with each key is a DataFrame storing the data from the CSV file.\n",
    "\n",
    "For example, the aapl.csv data can be stored in an entry with key \"aapl\" and value is the DataFrame obtained by reading the CSV file, like so: pd.read_csv(\"prices/aapl.csv\").\n",
    "\n"
   ]
  },
  {
   "cell_type": "code",
   "execution_count": 1,
   "metadata": {},
   "outputs": [],
   "source": [
    "import pandas as pd\n",
    "import os\n",
    "\n",
    "stock_prices={}\n",
    "\n",
    "for fn in os.listdir(\"prices\"):\n",
    "    name = fn.split(\".\")[0]\n",
    "    stock_prices[name] = pd.read_csv(os.path.join(\"prices\", fn))"
   ]
  },
  {
   "cell_type": "markdown",
   "metadata": {},
   "source": [
    "We chose a dictionary where the keys are the stock symbols and the values are DataFrames with the from the corresponding CSV file."
   ]
  },
  {
   "cell_type": "code",
   "execution_count": 2,
   "metadata": {},
   "outputs": [
    {
     "data": {
      "text/html": [
       "<div>\n",
       "<style scoped>\n",
       "    .dataframe tbody tr th:only-of-type {\n",
       "        vertical-align: middle;\n",
       "    }\n",
       "\n",
       "    .dataframe tbody tr th {\n",
       "        vertical-align: top;\n",
       "    }\n",
       "\n",
       "    .dataframe thead th {\n",
       "        text-align: right;\n",
       "    }\n",
       "</style>\n",
       "<table border=\"1\" class=\"dataframe\">\n",
       "  <thead>\n",
       "    <tr style=\"text-align: right;\">\n",
       "      <th></th>\n",
       "      <th>date</th>\n",
       "      <th>close</th>\n",
       "      <th>open</th>\n",
       "      <th>high</th>\n",
       "      <th>low</th>\n",
       "      <th>volume</th>\n",
       "    </tr>\n",
       "  </thead>\n",
       "  <tbody>\n",
       "    <tr>\n",
       "      <th>0</th>\n",
       "      <td>2007-01-03</td>\n",
       "      <td>83.800002</td>\n",
       "      <td>86.289999</td>\n",
       "      <td>86.579999</td>\n",
       "      <td>81.899999</td>\n",
       "      <td>309579900</td>\n",
       "    </tr>\n",
       "    <tr>\n",
       "      <th>1</th>\n",
       "      <td>2007-01-04</td>\n",
       "      <td>85.659998</td>\n",
       "      <td>84.050001</td>\n",
       "      <td>85.949998</td>\n",
       "      <td>83.820003</td>\n",
       "      <td>211815100</td>\n",
       "    </tr>\n",
       "    <tr>\n",
       "      <th>2</th>\n",
       "      <td>2007-01-05</td>\n",
       "      <td>85.049997</td>\n",
       "      <td>85.770000</td>\n",
       "      <td>86.199997</td>\n",
       "      <td>84.400002</td>\n",
       "      <td>208685400</td>\n",
       "    </tr>\n",
       "    <tr>\n",
       "      <th>3</th>\n",
       "      <td>2007-01-08</td>\n",
       "      <td>85.470000</td>\n",
       "      <td>85.959998</td>\n",
       "      <td>86.529998</td>\n",
       "      <td>85.280003</td>\n",
       "      <td>199276700</td>\n",
       "    </tr>\n",
       "    <tr>\n",
       "      <th>4</th>\n",
       "      <td>2007-01-09</td>\n",
       "      <td>92.570003</td>\n",
       "      <td>86.450003</td>\n",
       "      <td>92.979999</td>\n",
       "      <td>85.150000</td>\n",
       "      <td>837324600</td>\n",
       "    </tr>\n",
       "  </tbody>\n",
       "</table>\n",
       "</div>"
      ],
      "text/plain": [
       "         date      close       open       high        low     volume\n",
       "0  2007-01-03  83.800002  86.289999  86.579999  81.899999  309579900\n",
       "1  2007-01-04  85.659998  84.050001  85.949998  83.820003  211815100\n",
       "2  2007-01-05  85.049997  85.770000  86.199997  84.400002  208685400\n",
       "3  2007-01-08  85.470000  85.959998  86.529998  85.280003  199276700\n",
       "4  2007-01-09  92.570003  86.450003  92.979999  85.150000  837324600"
      ]
     },
     "execution_count": 2,
     "metadata": {},
     "output_type": "execute_result"
    }
   ],
   "source": [
    "stock_prices[\"aapl\"].head()"
   ]
  },
  {
   "cell_type": "markdown",
   "metadata": {},
   "source": [
    "### Computing Aggregates\n",
    "\n",
    "#### Computing Average Closing Prices"
   ]
  },
  {
   "cell_type": "code",
   "execution_count": 3,
   "metadata": {},
   "outputs": [],
   "source": [
    "avg_closing_price = {}\n",
    "\n",
    "for stock in stock_prices:\n",
    "    avg_closing_price[stock] = stock_prices[stock][\"close\"].mean()\n",
    "    \n"
   ]
  },
  {
   "cell_type": "code",
   "execution_count": 4,
   "metadata": {},
   "outputs": [],
   "source": [
    "# dict(list(stock_prices.items())[0:5])"
   ]
  },
  {
   "cell_type": "markdown",
   "metadata": {},
   "source": [
    "### Displaying the average closing prices"
   ]
  },
  {
   "cell_type": "code",
   "execution_count": 5,
   "metadata": {},
   "outputs": [
    {
     "name": "stdout",
     "output_type": "stream",
     "text": [
      "dgica 14.986583006177607\n",
      "bdge 24.12035132432432\n",
      "cvco 53.36543631042471\n",
      "blkb 33.75537838185328\n",
      "bbox 25.997579137451737\n"
     ]
    }
   ],
   "source": [
    "# # correct way\n",
    "# for stock in stock_prices:\n",
    "#     print(stock, avg_closing_price[stock])\n",
    "\n",
    "# shorted data\n",
    "for stock in list(stock_prices)[:5]:\n",
    "    print(stock, avg_closing_price[stock])\n"
   ]
  },
  {
   "cell_type": "markdown",
   "metadata": {},
   "source": [
    "### Minimum and maximum closing prices"
   ]
  },
  {
   "cell_type": "code",
   "execution_count": 6,
   "metadata": {},
   "outputs": [
    {
     "name": "stdout",
     "output_type": "stream",
     "text": [
      "Two minimum average closing prices:\n",
      "(0.8122763011583011, 'blfs') (0.8241009938223938, 'apdn')\n",
      "\n",
      "Two maximum average closing prices:\n",
      "(275.13407757104255, 'amzn') (257.1765404023166, 'aapl')\n"
     ]
    }
   ],
   "source": [
    "pairs = [(avg_closing_price[stock], stock) for stock in avg_closing_price]\n",
    "\n",
    "pairs.sort()\n",
    "\n",
    "print(\"Two minimum average closing prices:\")\n",
    "print(pairs[0], pairs[1])\n",
    "print()\n",
    "print(\"Two maximum average closing prices:\")\n",
    "print(pairs[-1], pairs[-2])"
   ]
  },
  {
   "cell_type": "markdown",
   "metadata": {},
   "source": [
    "amzn and aapl have the highest average closing prices, while blfs, and apdn have the lowest average closing prices.\n",
    "\n"
   ]
  },
  {
   "cell_type": "markdown",
   "metadata": {},
   "source": [
    "### Organizing the trades per day\n",
    "\n",
    "We are going to calculate a dictionary where the keys are the days and the values are list of pairs (volume, stock_symbol) of all trades that occurred on that day.\n"
   ]
  },
  {
   "cell_type": "code",
   "execution_count": 8,
   "metadata": {},
   "outputs": [],
   "source": [
    "trades_by_day = {}\n",
    "\n",
    "for stock_sym in stock_prices:\n",
    "    for index, row in stock_prices[stock_sym].iterrows():\n",
    "        day = row[\"date\"]\n",
    "        volume = row[\"volume\"]\n",
    "        pair = (volume, stock_sym)\n",
    "        if day not in trades_by_day:\n",
    "            trades_by_day[day] = []\n",
    "        trades_by_day[day].append(pair)\n"
   ]
  },
  {
   "cell_type": "markdown",
   "metadata": {},
   "source": [
    "### Finding The Most Traded Stock Each Day\n",
    "\n",
    "Calculate a dictionary there the keys are the days and the value of each day is a pair (volume, stock_symbol) with the most traded stock symbol on that day.\n"
   ]
  },
  {
   "cell_type": "code",
   "execution_count": 9,
   "metadata": {},
   "outputs": [],
   "source": [
    "most_traded_by_day = {}\n",
    "\n",
    "for day in trades_by_day:\n",
    "    trades_by_day[day].sort()\n",
    "    most_traded_by_day[day] = trades_by_day[day][-1]"
   ]
  },
  {
   "cell_type": "markdown",
   "metadata": {},
   "source": [
    "### Verify a few of the results"
   ]
  },
  {
   "cell_type": "code",
   "execution_count": 13,
   "metadata": {},
   "outputs": [
    {
     "name": "stdout",
     "output_type": "stream",
     "text": [
      "(309579900, 'aapl')\n",
      "(211815100, 'aapl')\n",
      "(208685400, 'aapl')\n",
      "(199276700, 'aapl')\n"
     ]
    }
   ],
   "source": [
    "print(most_traded_by_day['2007-01-03'])\n",
    "print(most_traded_by_day['2007-01-04'])\n",
    "print(most_traded_by_day['2007-01-05'])\n",
    "print(most_traded_by_day['2007-01-08'])"
   ]
  },
  {
   "cell_type": "markdown",
   "metadata": {},
   "source": [
    "### Searching For High Volume Days"
   ]
  },
  {
   "cell_type": "code",
   "execution_count": 23,
   "metadata": {},
   "outputs": [
    {
     "data": {
      "text/plain": [
       "[(1533363200, '2008-01-24'),\n",
       " (1536176400, '2008-01-16'),\n",
       " (1553880500, '2007-11-08'),\n",
       " (1555072400, '2008-09-29'),\n",
       " (1559032100, '2008-02-07'),\n",
       " (1578877700, '2008-01-22'),\n",
       " (1599183500, '2008-10-08'),\n",
       " (1611272800, '2007-07-26'),\n",
       " (1770266900, '2008-10-10'),\n",
       " (1964583900, '2008-01-23')]"
      ]
     },
     "execution_count": 23,
     "metadata": {},
     "output_type": "execute_result"
    }
   ],
   "source": [
    "total_volume_by_day=[]\n",
    "\n",
    "for day in trades_by_day:\n",
    "    day_volume = sum([volume for volume, _ in trades_by_day[day]])\n",
    "    total_volume_by_day.append((day_volume, day))\n",
    "    \n",
    "total_volume_by_day.sort()\n",
    "\n",
    "total_volume_by_day[-10:]"
   ]
  },
  {
   "cell_type": "markdown",
   "metadata": {},
   "source": [
    "### Finding Profitable Stocks"
   ]
  },
  {
   "cell_type": "code",
   "execution_count": 33,
   "metadata": {},
   "outputs": [
    {
     "data": {
      "text/plain": [
       "[(1330.0000666666667, 'achc'),\n",
       " (1339.2137535980346, 'bcli'),\n",
       " (1525.1625162516252, 'cui'),\n",
       " (1549.6700659868025, 'apdn'),\n",
       " (1707.3554472785033, 'anip'),\n",
       " (2230.7234281466817, 'amzn'),\n",
       " (2437.4365640858978, 'blfs'),\n",
       " (3898.60048982856, 'arcw'),\n",
       " (4005.0000000000005, 'adxs'),\n",
       " (7483.8389225948395, 'admp')]"
      ]
     },
     "execution_count": 33,
     "metadata": {},
     "output_type": "execute_result"
    }
   ],
   "source": [
    "most_profitable=[]\n",
    "\n",
    "for stock_sym in stock_prices:\n",
    "    prices = stock_prices[stock_sym]\n",
    "    initial = prices.loc[0, \"close\"]\n",
    "    final = prices.loc[prices.shape[0] - 1, \"close\"]\n",
    "    percentage_diff = 100 * ((final - initial) / initial)\n",
    "    most_profitable.append((percentage_diff, stock_sym))\n",
    "\n",
    "most_profitable.sort()\n",
    "most_profitable[-10:]"
   ]
  },
  {
   "cell_type": "markdown",
   "metadata": {},
   "source": [
    "The most profitable stock to buy in 2007 would have been `ADMP`, which appreciated from around 7 cents to its current price of 4.43.\n"
   ]
  },
  {
   "cell_type": "code",
   "execution_count": null,
   "metadata": {},
   "outputs": [],
   "source": []
  }
 ],
 "metadata": {
  "kernelspec": {
   "display_name": "Python 3",
   "language": "python",
   "name": "python3"
  },
  "language_info": {
   "codemirror_mode": {
    "name": "ipython",
    "version": 3
   },
   "file_extension": ".py",
   "mimetype": "text/x-python",
   "name": "python",
   "nbconvert_exporter": "python",
   "pygments_lexer": "ipython3",
   "version": "3.8.2"
  }
 },
 "nbformat": 4,
 "nbformat_minor": 1
}
